{
 "cells": [
  {
   "cell_type": "code",
   "execution_count": null,
   "metadata": {
    "collapsed": false
   },
   "outputs": [],
   "source": [
    "import numpy as np\n",
    "%matplotlib inline\n",
    "np.set_printoptions(precision=3) # So printed matrices aren't huge\n",
    "np.set_printoptions(suppress=True) # Don't use scientific notation"
   ]
  },
  {
   "cell_type": "markdown",
   "metadata": {},
   "source": [
    "# QR Factorization by the Gram-Schmidt algorithm"
   ]
  },
  {
   "cell_type": "markdown",
   "metadata": {},
   "source": [
    "Let's look at the accuracy of the classical and modified Gram-Schmidt algorithms (see, e.g. Trefethen & Bau lecture 7).  Here is an implementation of the classical Gram-Schmidt algorithm; notice that it uses more storage than necessary."
   ]
  },
  {
   "cell_type": "code",
   "execution_count": null,
   "metadata": {
    "collapsed": false
   },
   "outputs": [],
   "source": [
    "def clgs(A):\n",
    "    \"QR factorization by the classical Gram-Schmidt algorithm.\"\n",
    "    n = A.shape[1] # Number of columns of A\n",
    "    R = np.zeros([n,n])\n",
    "    V = np.zeros(A.shape)\n",
    "    Q = np.zeros(A.shape)\n",
    "    \n",
    "    for j in range(n):      # loop over columns of R\n",
    "        V[:,j] = A[:,j]\n",
    "        for i in range(j):  # Make jth column of V orthogonal to ith column of Q\n",
    "            R[i,j] = np.dot(Q[:,i].T,A[:,j])\n",
    "            V[:,j] = V[:,j] - R[i,j]*Q[:,i]\n",
    "        \n",
    "        R[j,j] = np.linalg.norm(V[:,j],2)\n",
    "        Q[:,j] = V[:,j]/R[j,j]             # Normalize jth column of V to get jth column of Q\n",
    "    \n",
    "    return Q, R"
   ]
  },
  {
   "cell_type": "markdown",
   "metadata": {},
   "source": [
    "Now, we'll generate a random $4 \\times 4$ matrix:"
   ]
  },
  {
   "cell_type": "code",
   "execution_count": null,
   "metadata": {
    "collapsed": false
   },
   "outputs": [],
   "source": [
    "n = 4\n",
    "A = np.random.rand(n,n)"
   ]
  },
  {
   "cell_type": "markdown",
   "metadata": {},
   "source": [
    "Let's factor it:"
   ]
  },
  {
   "cell_type": "code",
   "execution_count": null,
   "metadata": {
    "collapsed": false
   },
   "outputs": [],
   "source": [
    "Q, R = clgs(A)\n",
    "print('Q =')\n",
    "print(Q)\n",
    "print('R =')\n",
    "print(R)"
   ]
  },
  {
   "cell_type": "markdown",
   "metadata": {},
   "source": [
    "Clearly $R$ is upper triangular.  Is $Q$ unitary?  We can check by computing $I-Q^T Q$, which should be zero:"
   ]
  },
  {
   "cell_type": "code",
   "execution_count": null,
   "metadata": {
    "collapsed": false
   },
   "outputs": [],
   "source": [
    "print(np.max(np.abs(np.dot(Q.T,Q)-np.eye(n))))"
   ]
  },
  {
   "cell_type": "markdown",
   "metadata": {},
   "source": [
    "Not bad.  We can also check our factorization by computing $QR-A$:"
   ]
  },
  {
   "cell_type": "code",
   "execution_count": null,
   "metadata": {
    "collapsed": false
   },
   "outputs": [],
   "source": [
    "print(np.max(np.abs(np.dot(Q,R)-A)))"
   ]
  },
  {
   "cell_type": "markdown",
   "metadata": {},
   "source": [
    "That looks pretty good. "
   ]
  },
  {
   "cell_type": "markdown",
   "metadata": {},
   "source": [
    "# Instability of classical Gram-Schmidt"
   ]
  },
  {
   "cell_type": "markdown",
   "metadata": {},
   "source": [
    "Now let's try it on a different matrix.  The function below sets up a Hilbert matrix; these matrices are notoriously ill-conditioned (i.e., close to singular)."
   ]
  },
  {
   "cell_type": "code",
   "execution_count": null,
   "metadata": {
    "collapsed": false
   },
   "outputs": [],
   "source": [
    "def Hilbert(n):\n",
    "    \"\"\"Return the n x n Hilbert matrix.\"\"\"\n",
    "    A = np.zeros([n,n])\n",
    "    for i in range(n):\n",
    "        for j in range(n):\n",
    "            A[i,j] = 1./(i+j+1)\n",
    "    return A"
   ]
  },
  {
   "cell_type": "markdown",
   "metadata": {},
   "source": [
    "Now let's set up and factor a modest-sized Hilbert matrix:"
   ]
  },
  {
   "cell_type": "code",
   "execution_count": null,
   "metadata": {
    "collapsed": false
   },
   "outputs": [],
   "source": [
    "n = 10\n",
    "H = Hilbert(n)\n",
    "print(H)"
   ]
  },
  {
   "cell_type": "code",
   "execution_count": null,
   "metadata": {
    "collapsed": false
   },
   "outputs": [],
   "source": [
    "Q, R = clgs(H)"
   ]
  },
  {
   "cell_type": "markdown",
   "metadata": {},
   "source": [
    "How good is our factorization?  Let's check."
   ]
  },
  {
   "cell_type": "code",
   "execution_count": null,
   "metadata": {
    "collapsed": false
   },
   "outputs": [],
   "source": [
    "print('QR-H')\n",
    "print(np.max(np.abs(np.dot(Q,R)-H)))\n",
    "print(\"Q*Q-I\")\n",
    "print(np.max(np.abs(np.dot(Q.T,Q)-np.eye(n))))"
   ]
  },
  {
   "cell_type": "markdown",
   "metadata": {},
   "source": [
    "Whoa!  We still have an accurate factorization of $A$, but $Q$ isn't even close to orthogonal:"
   ]
  },
  {
   "cell_type": "code",
   "execution_count": null,
   "metadata": {
    "collapsed": false
   },
   "outputs": [],
   "source": [
    "print(np.dot(Q.T,Q)-np.eye(n))"
   ]
  },
  {
   "cell_type": "markdown",
   "metadata": {},
   "source": [
    "# Modified Gram-Schmidt (to the rescue!)"
   ]
  },
  {
   "cell_type": "markdown",
   "metadata": {},
   "source": [
    "Let's try the modified algorithm on the same Hilbert matrix.  Here is the modified algorithm (again, using more storage than necessary):"
   ]
  },
  {
   "cell_type": "code",
   "execution_count": null,
   "metadata": {
    "collapsed": false
   },
   "outputs": [],
   "source": [
    "def mgs(A):\n",
    "    \"QR factorization by the modified Gram-Schmidt algorithm.\"\n",
    "    n = A.shape[1]\n",
    "    R = np.zeros([n,n])\n",
    "    V = np.zeros(A.shape)\n",
    "    Q = np.zeros(A.shape)\n",
    "    for i in range(n):\n",
    "        V[:,i] = A[:,i]\n",
    "    for i in range(n):\n",
    "        R[i,i] = np.linalg.norm(V[:,i],2)\n",
    "        Q[:,i] = V[:,i]/R[i,i]\n",
    "        for j in range(i,n):\n",
    "            R[i,j] = np.dot(Q[:,i].T,V[:,j])\n",
    "            V[:,j] = V[:,j] - R[i,j]*Q[:,i]\n",
    "    return Q, R"
   ]
  },
  {
   "cell_type": "code",
   "execution_count": null,
   "metadata": {
    "collapsed": false
   },
   "outputs": [],
   "source": [
    "Q2, R2 = mgs(H)"
   ]
  },
  {
   "cell_type": "markdown",
   "metadata": {},
   "source": [
    "How good is our factorization?"
   ]
  },
  {
   "cell_type": "code",
   "execution_count": null,
   "metadata": {
    "collapsed": false
   },
   "outputs": [],
   "source": [
    "print('QR-H')\n",
    "print(np.max(abs(np.dot(Q2,R2)-H)))\n",
    "print(\"Q*Q-I\")\n",
    "print(np.max(abs(np.dot(Q2.T,Q2)-np.eye(n))))"
   ]
  },
  {
   "cell_type": "markdown",
   "metadata": {},
   "source": [
    "The orthogonality of $Q$ is far from perfect, but much better than what we got from the classical algorithm."
   ]
  },
  {
   "cell_type": "markdown",
   "metadata": {},
   "source": [
    "We can also see the inaccuracy of cGS if we look at the diagonal entries of $R$, which approximate the singular values of $A$ (see Trefethen & Bau lecture 9):"
   ]
  },
  {
   "cell_type": "code",
   "execution_count": null,
   "metadata": {
    "collapsed": false
   },
   "outputs": [],
   "source": [
    "import matplotlib.pyplot as plt\n",
    "plt.figure(figsize=(8,4))\n",
    "plt.semilogy(np.diag(R),'r',linewidth=3)\n",
    "plt.hold(True)\n",
    "plt.semilogy(np.diag(R2),'ok');\n",
    "plt.legend(('Classical','Modified'));\n",
    "plt.title('Diagonal entries of R');"
   ]
  },
  {
   "cell_type": "markdown",
   "metadata": {},
   "source": [
    "# Householder transformations are even better"
   ]
  },
  {
   "cell_type": "markdown",
   "metadata": {},
   "source": [
    "Numpy's built-in QR function uses Householder triangularization:"
   ]
  },
  {
   "cell_type": "code",
   "execution_count": null,
   "metadata": {
    "collapsed": false
   },
   "outputs": [],
   "source": [
    "Q3, R3 = np.linalg.qr(H)"
   ]
  },
  {
   "cell_type": "code",
   "execution_count": null,
   "metadata": {
    "collapsed": false
   },
   "outputs": [],
   "source": [
    "print(np.max(np.abs(np.dot(Q3,R3)-H)))\n",
    "print(np.max(np.abs(np.dot(Q3.T,Q3)-np.eye(n))))"
   ]
  },
  {
   "cell_type": "markdown",
   "metadata": {
    "collapsed": false
   },
   "source": [
    "Impressive!"
   ]
  }
 ],
 "metadata": {
  "kernelspec": {
   "display_name": "Python 2",
   "language": "python",
   "name": "python2"
  },
  "language_info": {
   "codemirror_mode": {
    "name": "ipython",
    "version": 2
   },
   "file_extension": ".py",
   "mimetype": "text/x-python",
   "name": "python",
   "nbconvert_exporter": "python",
   "pygments_lexer": "ipython2",
   "version": "2.7.11"
  }
 },
 "nbformat": 4,
 "nbformat_minor": 0
}

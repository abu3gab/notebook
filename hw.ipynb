import numpy as np
import plotly

R = lambda z: 1 + z + (z**2) /2 + (z**3)/6 + (z**4)/24


n = 1000


xlist = np.linspace(-1.5, 1.5, n)
ylist = np.linspace(-1.5, 1.5, n)
X, Y = np.meshgrid(xlist, ylist)
Z = np.zeros((n,n))

#for Z = np.complex.__abs__((R(complex(X,Y))))

#z = complex(4,5)

for k in range(n):
    for i in range(n):
        s = np.complex.__abs__(R(complex(xlist[i],ylist[k])))
        if s <= 1:
            Z[i,k] = 1

        

print(Z)
